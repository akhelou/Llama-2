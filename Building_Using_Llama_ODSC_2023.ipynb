{
  "cells": [
    {
      "cell_type": "markdown",
      "metadata": {
        "id": "view-in-github",
        "colab_type": "text"
      },
      "source": [
        "<a href=\"https://colab.research.google.com/github/amitsangani/Llama-2/blob/main/Building_Using_Llama_ODSC_2023.ipynb\" target=\"_parent\"><img src=\"https://colab.research.google.com/assets/colab-badge.svg\" alt=\"Open In Colab\"/></a>"
      ]
    },
    {
      "cell_type": "markdown",
      "source": [
        "![Meta---Logo@1x.jpg](data:image/jpeg;base64,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)"
      ],
      "metadata": {
        "id": "RJSnI0Xy-kCm"
      }
    },
    {
      "cell_type": "markdown",
      "metadata": {
        "id": "LERqQn5v8-ak"
      },
      "source": [
        "# **Getting to know Llama 2: Everything you need to start building**\n",
        "Our goal in this session is to provide a guided tour of Llama 2, including understanding different Llama 2 models, how and where to access them, Generative AI and Chatbot architectures, prompt engineering, RAG (Retrieval Augmented Generation), Fine-tuning and more. All this is implemented with a starter code for you to take it and use it in your Llama 2 projects."
      ]
    },
    {
      "cell_type": "markdown",
      "source": [
        "##**0 - Prerequisites**\n",
        "* Basic understanding of Large Language Models\n",
        "\n",
        "* Basic understanding of Python"
      ],
      "metadata": {
        "id": "ioVMNcTesSEk"
      }
    },
    {
      "cell_type": "code",
      "execution_count": null,
      "metadata": {
        "id": "ktEA7qXmwdUM"
      },
      "outputs": [],
      "source": [
        "# presentation layer code\n",
        "\n",
        "import base64\n",
        "from IPython.display import Image, display\n",
        "import matplotlib.pyplot as plt\n",
        "\n",
        "def mm(graph):\n",
        "  graphbytes = graph.encode(\"ascii\")\n",
        "  base64_bytes = base64.b64encode(graphbytes)\n",
        "  base64_string = base64_bytes.decode(\"ascii\")\n",
        "  display(Image(url=\"https://mermaid.ink/img/\" + base64_string))\n",
        "\n",
        "def genai_app_arch():\n",
        "  mm(\"\"\"\n",
        "  flowchart TD\n",
        "    A[Users] --> B(Applications e.g. mobile, web)\n",
        "    B --> |Hosted API|C(Platforms e.g. Custom, HuggingFace, Replicate)\n",
        "    B -- optional --> E(Frameworks e.g. LangChain)\n",
        "    C-->|User Input|D[Llama 2]\n",
        "    D-->|Model Output|C\n",
        "    E --> C\n",
        "    classDef default fill:#CCE6FF,stroke:#84BCF5,textColor:#1C2B33,fontFamily:trebuchet ms;\n",
        "  \"\"\")\n",
        "\n",
        "def rag_arch():\n",
        "  mm(\"\"\"\n",
        "  flowchart TD\n",
        "    A[User Prompts] --> B(Frameworks e.g. LangChain)\n",
        "    B <--> |Database, Docs, XLS|C[fa:fa-database External Data]\n",
        "    B -->|API|D[Llama 2]\n",
        "    classDef default fill:#CCE6FF,stroke:#84BCF5,textColor:#1C2B33,fontFamily:trebuchet ms;\n",
        "  \"\"\")\n",
        "\n",
        "def llama2_family():\n",
        "  mm(\"\"\"\n",
        "  graph LR;\n",
        "      llama-2 --> llama-2-7b\n",
        "      llama-2 --> llama-2-13b\n",
        "      llama-2 --> llama-2-70b\n",
        "      llama-2-7b --> llama-2-7b-chat\n",
        "      llama-2-13b --> llama-2-13b-chat\n",
        "      llama-2-70b --> llama-2-70b-chat\n",
        "      classDef default fill:#CCE6FF,stroke:#84BCF5,textColor:#1C2B33,fontFamily:trebuchet ms;\n",
        "  \"\"\")\n",
        "\n",
        "def apps_and_llms():\n",
        "  mm(\"\"\"\n",
        "  graph LR;\n",
        "    users --> apps\n",
        "    apps --> frameworks\n",
        "    frameworks --> platforms\n",
        "    platforms --> Llama 2\n",
        "    classDef default fill:#CCE6FF,stroke:#84BCF5,textColor:#1C2B33,fontFamily:trebuchet ms;\n",
        "  \"\"\")\n",
        "\n",
        "import ipywidgets as widgets\n",
        "from IPython.display import display, Markdown\n",
        "\n",
        "# Create a text widget\n",
        "API_KEY = widgets.Password(\n",
        "    value='',\n",
        "    placeholder='',\n",
        "    description='API_KEY:',\n",
        "    disabled=False\n",
        ")\n",
        "\n",
        "def md(t):\n",
        "  display(Markdown(t))\n",
        "\n",
        "def bot_arch():\n",
        "  mm(\"\"\"\n",
        "  graph LR;\n",
        "  user --> prompt\n",
        "  prompt --> i_safety\n",
        "  i_safety --> context\n",
        "  context --> Llama_2\n",
        "  Llama_2 --> output\n",
        "  output --> o_safety\n",
        "  i_safety --> memory\n",
        "  o_safety --> memory\n",
        "  memory --> context\n",
        "  o_safety --> user\n",
        "  classDef default fill:#CCE6FF,stroke:#84BCF5,textColor:#1C2B33,fontFamily:trebuchet ms;\n",
        "  \"\"\")\n",
        "\n",
        "def fine_tuned_arch():\n",
        "  mm(\"\"\"\n",
        "  graph LR;\n",
        "      Custom_Dataset --> Pre-trained_Llama\n",
        "      Pre-trained_Llama --> Fine-tuned_Llama\n",
        "      Fine-tuned_Llama --> RLHF\n",
        "      RLHF --> |Loss:Cross-Entropy|Fine-tuned_Llama\n",
        "      classDef default fill:#CCE6FF,stroke:#84BCF5,textColor:#1C2B33,fontFamily:trebuchet ms;\n",
        "  \"\"\")\n",
        "\n",
        "def load_data_faiss_arch():\n",
        "  mm(\"\"\"\n",
        "  graph LR;\n",
        "      documents --> textsplitter\n",
        "      textsplitter --> embeddings\n",
        "      embeddings --> vectorstore\n",
        "      classDef default fill:#CCE6FF,stroke:#84BCF5,textColor:#1C2B33,fontFamily:trebuchet ms;\n",
        "  \"\"\")\n",
        "\n",
        "def mem_context():\n",
        "  mm(\"\"\"\n",
        "      graph LR\n",
        "      context(text)\n",
        "      user_prompt --> context\n",
        "      instruction --> context\n",
        "      examples --> context\n",
        "      memory --> context\n",
        "      context --> tokenizer\n",
        "      tokenizer --> embeddings\n",
        "      embeddings --> LLM\n",
        "      classDef default fill:#CCE6FF,stroke:#84BCF5,textColor:#1C2B33,fontFamily:trebuchet ms;\n",
        "  \"\"\")\n"
      ]
    },
    {
      "cell_type": "markdown",
      "source": [
        "##**1 - Understanding Llama 2**"
      ],
      "metadata": {
        "id": "i4Np_l_KtIno"
      }
    },
    {
      "cell_type": "markdown",
      "metadata": {
        "id": "PGPSI3M5PGTi"
      },
      "source": [
        "### **1.1 - What is Llama 2?**\n",
        "\n",
        "* State of the art (SOTA), Open Source LLM\n",
        "* 7B, 13B, 70B\n",
        "* Choosing model: Size, Quality, Cost, Speed\n",
        "* Pretrained + Chat\n",
        "* [Research paper](https://ai.meta.com/research/publications/llama-2-open-foundation-and-fine-tuned-chat-models/)\n",
        "\n",
        "* [Responsible use guide](https://ai.meta.com/llama/responsible-use-guide/)"
      ]
    },
    {
      "cell_type": "code",
      "execution_count": null,
      "metadata": {
        "id": "OXRCC7wexZXd",
        "colab": {
          "base_uri": "https://localhost:8080/",
          "height": 240
        },
        "outputId": "1cb95138-df8e-4531-831d-bdfbe9b5eb97"
      },
      "outputs": [
        {
          "output_type": "display_data",
          "data": {
            "text/html": [
              "<img src=\"https://mermaid.ink/img/CiAgZ3JhcGggTFI7CiAgICAgIGxsYW1hLTIgLS0+IGxsYW1hLTItN2IKICAgICAgbGxhbWEtMiAtLT4gbGxhbWEtMi0xM2IKICAgICAgbGxhbWEtMiAtLT4gbGxhbWEtMi03MGIKICAgICAgbGxhbWEtMi03YiAtLT4gbGxhbWEtMi03Yi1jaGF0CiAgICAgIGxsYW1hLTItMTNiIC0tPiBsbGFtYS0yLTEzYi1jaGF0CiAgICAgIGxsYW1hLTItNzBiIC0tPiBsbGFtYS0yLTcwYi1jaGF0CiAgICAgIGNsYXNzRGVmIGRlZmF1bHQgZmlsbDojQ0NFNkZGLHN0cm9rZTojODRCQ0Y1LHRleHRDb2xvcjojMUMyQjMzLGZvbnRGYW1pbHk6dHJlYnVjaGV0IG1zOwogIA==\"/>"
            ],
            "text/plain": [
              "<IPython.core.display.Image object>"
            ]
          },
          "metadata": {}
        }
      ],
      "source": [
        "llama2_family()"
      ]
    },
    {
      "cell_type": "markdown",
      "metadata": {
        "id": "aYeHVVh45bdT"
      },
      "source": [
        "###**1.2 - Accessing Llama 2**\n",
        "* Download + Self Host (on-premise)\n",
        "* Hosted API Platform (e.g. [Replicate](https://replicate.com/meta))\n",
        "\n",
        "* Hosted Container Platform (e.g. [Azure](https://techcommunity.microsoft.com/t5/ai-machine-learning-blog/introducing-llama-2-on-azure/ba-p/3881233), [AWS](https://aws.amazon.com/blogs/machine-learning/llama-2-foundation-models-from-meta-are-now-available-in-amazon-sagemaker-jumpstart/), [GCP](https://console.cloud.google.com/vertex-ai/publishers/google/model-garden/139))\n",
        "\n"
      ]
    },
    {
      "cell_type": "markdown",
      "source": [
        "### **1.3 - Use Cases of Llama 2**\n",
        "* Content Generation\n",
        "* Chatbots\n",
        "* Summarization\n",
        "* Programming (e.g. Code Llama)\n",
        "\n",
        "* and many more..."
      ],
      "metadata": {
        "id": "kBuSay8vtzL4"
      }
    },
    {
      "cell_type": "markdown",
      "source": [
        "##**2 - Using Llama 2**\n",
        "\n",
        "In this notebook, we are going to access [Llama 13b chat model](https://replicate.com/meta/llama-2-13b-chat) using hosted API from Replicate."
      ],
      "metadata": {
        "id": "sd54g0OHuqBY"
      }
    },
    {
      "cell_type": "markdown",
      "metadata": {
        "id": "h3YGMDJidHtH"
      },
      "source": [
        "### **2.1 - Install dependencies**"
      ]
    },
    {
      "cell_type": "code",
      "execution_count": null,
      "metadata": {
        "id": "VhN6hXwx7FCp"
      },
      "outputs": [],
      "source": [
        "# Install dependencies and initialize\n",
        "%pip install -qU \\\n",
        "    replicate \\\n",
        "    langchain \\\n",
        "    sentence_transformers \\\n",
        "    pdf2image \\\n",
        "    pdfminer \\\n",
        "    pdfminer.six \\\n",
        "    unstructured \\\n",
        "    faiss-gpu"
      ]
    },
    {
      "cell_type": "code",
      "source": [
        "# model url on Replicate platform that we will use for inferencing\n",
        "# We will use llama 23b chat model hosted on replicate server ()\n",
        "\n",
        "llama2_13b = \"meta/llama-2-13b-chat:f4e2de70d66816a838a89eeeb621910adffb0dd0baba3976c96980970978018d\""
      ],
      "metadata": {
        "id": "Z8Y8qjEjmg50"
      },
      "execution_count": null,
      "outputs": []
    },
    {
      "cell_type": "code",
      "execution_count": null,
      "metadata": {
        "id": "8hkWpqWD28ho",
        "colab": {
          "base_uri": "https://localhost:8080/"
        },
        "outputId": "e8e619ca-1c76-4a57-e2a1-380066920615"
      },
      "outputs": [
        {
          "name": "stdout",
          "output_type": "stream",
          "text": [
            "··········\n"
          ]
        }
      ],
      "source": [
        "# We will use Replicate hosted cloud environment\n",
        "# Obtain Replicate API key → https://replicate.com/account/api-tokens)\n",
        "\n",
        "# enter your replicate api token\n",
        "from getpass import getpass\n",
        "import os\n",
        "\n",
        "REPLICATE_API_TOKEN = getpass()\n",
        "os.environ[\"REPLICATE_API_TOKEN\"] = REPLICATE_API_TOKEN\n",
        "\n",
        "# alternatively, you can also store the tokens in environment variables and load it here"
      ]
    },
    {
      "cell_type": "code",
      "source": [
        "# we will use replicate's hosted api\n",
        "import replicate\n",
        "\n",
        "# text completion with input prompt\n",
        "def Completion(prompt):\n",
        "  output = replicate.run(\n",
        "      llama2_13b,\n",
        "      input={\"prompt\": prompt, \"max_new_tokens\":1000}\n",
        "  )\n",
        "  return \"\".join(output)\n",
        "\n",
        "# chat completion with input prompt and system prompt\n",
        "def ChatCompletion(prompt, system_prompt=None):\n",
        "  output = replicate.run(\n",
        "    llama2_13b,\n",
        "    input={\"system_prompt\": system_prompt,\n",
        "            \"prompt\": prompt,\n",
        "            \"max_new_tokens\":1000}\n",
        "  )\n",
        "  return \"\".join(output)"
      ],
      "metadata": {
        "id": "bVCHZmETk36v"
      },
      "execution_count": null,
      "outputs": []
    },
    {
      "cell_type": "markdown",
      "metadata": {
        "id": "5Jxq0pmf6L73"
      },
      "source": [
        "### **2.2 - Basic completion**"
      ]
    },
    {
      "cell_type": "code",
      "execution_count": null,
      "metadata": {
        "id": "H93zZBIk6tNU",
        "colab": {
          "base_uri": "https://localhost:8080/",
          "height": 64
        },
        "outputId": "82bbda3b-79c2-4510-889e-80f498d5568d"
      },
      "outputs": [
        {
          "output_type": "display_data",
          "data": {
            "text/plain": [
              "<IPython.core.display.Markdown object>"
            ],
            "text/markdown": " Oh my gosh, that's an easy one! The typical color of a llama is... (drumroll please)... GRAY! es, llamas are known for their beautiful gray coats, which can range in shade from light to dark. Some llamas may even have white markings on their faces or legs, but overall, gray is the most common color you'll see. "
          },
          "metadata": {}
        }
      ],
      "source": [
        "output = Completion(prompt=\"The typical color of a llama is: \")\n",
        "md(output)"
      ]
    },
    {
      "cell_type": "markdown",
      "metadata": {
        "id": "StccjUDh6W0Q"
      },
      "source": [
        "### **2.3 - System prompts**\n"
      ]
    },
    {
      "cell_type": "code",
      "execution_count": null,
      "metadata": {
        "id": "VRnFogxd6rTc",
        "colab": {
          "base_uri": "https://localhost:8080/",
          "height": 46
        },
        "outputId": "026379d0-6d10-491f-e203-9c86adc28a62"
      },
      "outputs": [
        {
          "output_type": "display_data",
          "data": {
            "text/plain": [
              "<IPython.core.display.Markdown object>"
            ],
            "text/markdown": " Grey"
          },
          "metadata": {}
        }
      ],
      "source": [
        "output = ChatCompletion(\n",
        "    prompt=\"The typical color of a llama is: \",\n",
        "    system_prompt=\"respond with only one word\"\n",
        "  )\n",
        "md(output)"
      ]
    },
    {
      "cell_type": "markdown",
      "metadata": {
        "id": "Hp4GNa066pYy"
      },
      "source": [
        "### **2.4 - Response formats**\n",
        "* Can support different formatted outputs e.g. text, JSON, etc."
      ]
    },
    {
      "cell_type": "code",
      "source": [
        "output = ChatCompletion(\n",
        "    prompt=\"The typical color of a llama is: \",\n",
        "    system_prompt=\"response in json format\"\n",
        "  )\n",
        "md(output)"
      ],
      "metadata": {
        "id": "HTN79h4RptgQ",
        "colab": {
          "base_uri": "https://localhost:8080/",
          "height": 46
        },
        "outputId": "263fd795-17af-4973-afc3-ceeef3765dec"
      },
      "execution_count": null,
      "outputs": [
        {
          "output_type": "display_data",
          "data": {
            "text/plain": [
              "<IPython.core.display.Markdown object>"
            ],
            "text/markdown": " {\n\"color\": \"brown\"\n}"
          },
          "metadata": {}
        }
      ]
    },
    {
      "cell_type": "markdown",
      "metadata": {
        "id": "cWs_s9y-avIT"
      },
      "source": [
        "## **3 - Gen AI Application Architecture**\n",
        "\n",
        "Here is the high-level tech stack/architecture of Generative AI application."
      ]
    },
    {
      "cell_type": "code",
      "source": [
        "genai_app_arch()"
      ],
      "metadata": {
        "id": "j9BGuI-9AOL5",
        "colab": {
          "base_uri": "https://localhost:8080/",
          "height": 446
        },
        "outputId": "270a00cd-dd0a-4db3-f500-0efc96d8ee8f"
      },
      "execution_count": null,
      "outputs": [
        {
          "output_type": "display_data",
          "data": {
            "text/html": [
              "<img src=\"https://mermaid.ink/img/CiAgZmxvd2NoYXJ0IFRECiAgICBBW1VzZXJzXSAtLT4gQihBcHBsaWNhdGlvbnMgZS5nLiBtb2JpbGUsIHdlYikKICAgIEIgLS0+IHxIb3N0ZWQgQVBJfEMoUGxhdGZvcm1zIGUuZy4gQ3VzdG9tLCBIdWdnaW5nRmFjZSwgUmVwbGljYXRlKQogICAgQiAtLSBvcHRpb25hbCAtLT4gRShGcmFtZXdvcmtzIGUuZy4gTGFuZ0NoYWluKQogICAgQy0tPnxVc2VyIElucHV0fERbTGxhbWEgMl0KICAgIEQtLT58TW9kZWwgT3V0cHV0fEMKICAgIEUgLS0+IEMKICAgIGNsYXNzRGVmIGRlZmF1bHQgZmlsbDojQ0NFNkZGLHN0cm9rZTojODRCQ0Y1LHRleHRDb2xvcjojMUMyQjMzLGZvbnRGYW1pbHk6dHJlYnVjaGV0IG1zOwogIA==\"/>"
            ],
            "text/plain": [
              "<IPython.core.display.Image object>"
            ]
          },
          "metadata": {}
        }
      ]
    },
    {
      "cell_type": "markdown",
      "metadata": {
        "id": "6UlxBtbgys6j"
      },
      "source": [
        "##4 - **Chatbot Architecture**\n",
        "\n",
        "Here are the key components and the information flow in a chatbot.\n",
        "\n",
        "* User Prompts\n",
        "* Input Safety\n",
        "* Llama 2\n",
        "* Output Safety\n",
        "\n",
        "* Memory & Context"
      ]
    },
    {
      "cell_type": "code",
      "execution_count": null,
      "metadata": {
        "id": "tO5HnB56ys6t",
        "colab": {
          "base_uri": "https://localhost:8080/",
          "height": 178
        },
        "outputId": "1a4c5844-b632-414f-dd2b-51e3c1b849c5"
      },
      "outputs": [
        {
          "output_type": "display_data",
          "data": {
            "text/html": [
              "<img src=\"https://mermaid.ink/img/CiAgZ3JhcGggTFI7CiAgdXNlciAtLT4gcHJvbXB0CiAgcHJvbXB0IC0tPiBpX3NhZmV0eQogIGlfc2FmZXR5IC0tPiBjb250ZXh0CiAgY29udGV4dCAtLT4gTGxhbWFfMgogIExsYW1hXzIgLS0+IG91dHB1dAogIG91dHB1dCAtLT4gb19zYWZldHkKICBpX3NhZmV0eSAtLT4gbWVtb3J5CiAgb19zYWZldHkgLS0+IG1lbW9yeQogIG1lbW9yeSAtLT4gY29udGV4dAogIG9fc2FmZXR5IC0tPiB1c2VyCiAgY2xhc3NEZWYgZGVmYXVsdCBmaWxsOiNDQ0U2RkYsc3Ryb2tlOiM4NEJDRjUsdGV4dENvbG9yOiMxQzJCMzMsZm9udEZhbWlseTp0cmVidWNoZXQgbXM7CiAg\"/>"
            ],
            "text/plain": [
              "<IPython.core.display.Image object>"
            ]
          },
          "metadata": {}
        }
      ],
      "source": [
        "bot_arch()"
      ]
    },
    {
      "cell_type": "markdown",
      "metadata": {
        "id": "r4DyTLD5ys6t"
      },
      "source": [
        "### **4.1 - Chat conversation**\n",
        "* LLMs are stateless\n",
        "* Single Turn\n",
        "\n",
        "* Multi Turn (Memory)\n",
        "\n"
      ]
    },
    {
      "cell_type": "code",
      "execution_count": null,
      "metadata": {
        "id": "EMM_egWMys6u",
        "colab": {
          "base_uri": "https://localhost:8080/",
          "height": 46
        },
        "outputId": "08f23159-7491-4b7a-a208-12b7ac63cb6f"
      },
      "outputs": [
        {
          "output_type": "display_data",
          "data": {
            "text/plain": [
              "<IPython.core.display.Markdown object>"
            ],
            "text/markdown": " About 20-30 years."
          },
          "metadata": {}
        }
      ],
      "source": [
        "# example of single turn chat\n",
        "prompt_chat = \"What is the average lifespan of a Llama?\"\n",
        "output = ChatCompletion(prompt=prompt_chat, system_prompt=\"answer the question in few words\")\n",
        "md(output)"
      ]
    },
    {
      "cell_type": "code",
      "source": [
        "# example without previous context. LLM's are stateless and cannot understand \"they\" without previous context\n",
        "prompt_chat = \"What animal family are they?\"\n",
        "output = ChatCompletion(prompt=prompt_chat, system_prompt=\"answer the question in few words\")\n",
        "md(output)"
      ],
      "metadata": {
        "id": "sZ7uVKDYucgi",
        "colab": {
          "base_uri": "https://localhost:8080/",
          "height": 70
        },
        "outputId": "0be279a6-7c8e-47c9-c9ff-e179f4c10801"
      },
      "execution_count": null,
      "outputs": [
        {
          "output_type": "display_data",
          "data": {
            "text/plain": [
              "<IPython.core.display.Markdown object>"
            ],
            "text/markdown": " Sure! Here's my answer:\n\nThey are a type of feline."
          },
          "metadata": {}
        }
      ]
    },
    {
      "cell_type": "markdown",
      "source": [
        "Chat app requires us to send in previous context to LLM to get in valid responses. Below is an example of Multi-turn chat."
      ],
      "metadata": {
        "id": "WQl3wmfbyBQ1"
      }
    },
    {
      "cell_type": "code",
      "source": [
        "# example of multi-turn chat, with storing previous context\n",
        "prompt_chat = \"\"\"\n",
        "User: What is the average lifespan of a Llama?\n",
        "Assistant: Sure! The average lifespan of a llama is around 20-30 years.\n",
        "User: What animal family are they?\n",
        "\"\"\"\n",
        "output = ChatCompletion(prompt=prompt_chat, system_prompt=\"answer the question in few words\")\n",
        "md(output)"
      ],
      "metadata": {
        "colab": {
          "base_uri": "https://localhost:8080/",
          "height": 46
        },
        "id": "t7SZe5fT3HG3",
        "outputId": "363373fc-ce84-48a5-8a9d-d7793341fbe2"
      },
      "execution_count": null,
      "outputs": [
        {
          "output_type": "display_data",
          "data": {
            "text/plain": [
              "<IPython.core.display.Markdown object>"
            ],
            "text/markdown": " Sure! Llamas belong to the camelid family."
          },
          "metadata": {}
        }
      ]
    },
    {
      "cell_type": "markdown",
      "metadata": {
        "id": "moXnmJ_xyD10"
      },
      "source": [
        "### **4.2 - Prompt Engineering**\n",
        "* Prompt engineering refers to the science of designing effective prompts to get desired responses\n",
        "\n",
        "* Helps reduce hallucination\n"
      ]
    },
    {
      "cell_type": "markdown",
      "metadata": {
        "id": "t-v-FeZ4ztTB"
      },
      "source": [
        "#### **4.2.1 - In-Context Learning (e.g. Zero-shot, Few-shot)**\n",
        " * In-context learning - specific method of prompt engineering where demonstration of task are provided as part of prompt.\n",
        "  1. Zero-shot learning - model is performing tasks without any\n",
        "input examples.\n",
        "  2. Few or “N-Shot” Learning - model is performing and behaving based on input examples in user's prompt."
      ]
    },
    {
      "cell_type": "code",
      "execution_count": null,
      "metadata": {
        "id": "6W71MFNZyRkQ",
        "colab": {
          "base_uri": "https://localhost:8080/",
          "height": 46
        },
        "outputId": "605a6f4b-5f01-487c-db39-623032d8d239"
      },
      "outputs": [
        {
          "output_type": "display_data",
          "data": {
            "text/plain": [
              "<IPython.core.display.Markdown object>"
            ],
            "text/markdown": " Cute"
          },
          "metadata": {}
        }
      ],
      "source": [
        "# Zero-shot example. To get positive/negative/neutral sentiment, we need to give examples in the prompt\n",
        "prompt = '''\n",
        "Classify: I saw a Gecko.\n",
        "Sentiment: ?\n",
        "'''\n",
        "output = ChatCompletion(prompt, system_prompt=\"one word response\")\n",
        "md(output)"
      ]
    },
    {
      "cell_type": "code",
      "execution_count": null,
      "metadata": {
        "id": "MCQRjf1Y1RYJ",
        "colab": {
          "base_uri": "https://localhost:8080/",
          "height": 46
        },
        "outputId": "aa1817f3-f764-4e34-ab19-83e2893efaf9"
      },
      "outputs": [
        {
          "output_type": "display_data",
          "data": {
            "text/plain": [
              "<IPython.core.display.Markdown object>"
            ],
            "text/markdown": " Neutral"
          },
          "metadata": {}
        }
      ],
      "source": [
        "# By giving examples to Llama, it understands the expected output format.\n",
        "\n",
        "prompt = '''\n",
        "Classify: I love Llamas!\n",
        "Sentiment: Positive\n",
        "Classify: I dont like Snakes.\n",
        "Sentiment: Negative\n",
        "Classify: I saw a Gecko.\n",
        "Sentiment:'''\n",
        "\n",
        "output = ChatCompletion(prompt, system_prompt=\"One word response\")\n",
        "md(output)"
      ]
    },
    {
      "cell_type": "code",
      "source": [
        "# another zero-shot learning\n",
        "prompt = '''\n",
        "QUESTION: Vicuna?\n",
        "ANSWER:'''\n",
        "\n",
        "output = ChatCompletion(prompt, system_prompt=\"one word response\")\n",
        "md(output)"
      ],
      "metadata": {
        "colab": {
          "base_uri": "https://localhost:8080/",
          "height": 46
        },
        "id": "8UmdlTmpDZxA",
        "outputId": "3c8648df-4ae4-4d82-f799-b2dbbf98f0b7"
      },
      "execution_count": null,
      "outputs": [
        {
          "output_type": "display_data",
          "data": {
            "text/plain": [
              "<IPython.core.display.Markdown object>"
            ],
            "text/markdown": " Luxurious."
          },
          "metadata": {}
        }
      ]
    },
    {
      "cell_type": "code",
      "execution_count": null,
      "metadata": {
        "id": "M_EcsUo1zqFD",
        "colab": {
          "base_uri": "https://localhost:8080/",
          "height": 46
        },
        "outputId": "7dc4000b-3245-42c7-a9d7-d35b3d7ca642"
      },
      "outputs": [
        {
          "output_type": "display_data",
          "data": {
            "text/plain": [
              "<IPython.core.display.Markdown object>"
            ],
            "text/markdown": " Yes"
          },
          "metadata": {}
        }
      ],
      "source": [
        "# Another few-shot learning example with formatted prompt.\n",
        "\n",
        "prompt = '''\n",
        "QUESTION: Llama?\n",
        "ANSWER: Yes\n",
        "QUESTION: Alpaca?\n",
        "ANSWER: Yes\n",
        "QUESTION: Rabbit?\n",
        "ANSWER: No\n",
        "QUESTION: Vicuna?\n",
        "ANSWER:'''\n",
        "\n",
        "output = ChatCompletion(prompt, system_prompt=\"one word response\")\n",
        "md(output)"
      ]
    },
    {
      "cell_type": "markdown",
      "metadata": {
        "id": "mbr124Y197xl"
      },
      "source": [
        "#### **4.2.2 - Chain of Thought**\n",
        "\"Chain of thought\" enables complex reasoning through logical step by step thinking and generates meaningful and contextually relevant responses."
      ]
    },
    {
      "cell_type": "code",
      "source": [
        "# Standard prompting\n",
        "prompt = '''\n",
        "Llama started with 5 tennis balls. It buys 2 more cans of tennis balls. Each can has 3 tennis balls. How many tennis balls does Llama have now?\n",
        "'''\n",
        "\n",
        "output = ChatCompletion(prompt, system_prompt=\"provide short answer\")\n",
        "md(output)"
      ],
      "metadata": {
        "id": "Xn8zmLBQzpgj",
        "colab": {
          "base_uri": "https://localhost:8080/",
          "height": 70
        },
        "outputId": "c47553b3-41f6-4d65-f2a4-25d093189f88"
      },
      "execution_count": null,
      "outputs": [
        {
          "output_type": "display_data",
          "data": {
            "text/plain": [
              "<IPython.core.display.Markdown object>"
            ],
            "text/markdown": " Sure! Here's the answer:\n\nLlama has 8 tennis balls now."
          },
          "metadata": {}
        }
      ]
    },
    {
      "cell_type": "code",
      "source": [
        "# Chain-Of-Thought prompting\n",
        "prompt = '''\n",
        "Llama started with 5 tennis balls. It buys 2 more cans of tennis balls. Each can has 3 tennis balls. How many tennis balls does Llama have now?\n",
        "Let's think step by step.\n",
        "'''\n",
        "\n",
        "output = ChatCompletion(prompt, system_prompt=\"provide short answer\")\n",
        "md(output)"
      ],
      "metadata": {
        "id": "lKNOj79o1Kwu",
        "colab": {
          "base_uri": "https://localhost:8080/",
          "height": 120
        },
        "outputId": "854331a8-39da-42fb-9df4-a984ceb0f36c"
      },
      "execution_count": null,
      "outputs": [
        {
          "output_type": "display_data",
          "data": {
            "text/plain": [
              "<IPython.core.display.Markdown object>"
            ],
            "text/markdown": " Sure! Here's the solution step by step:\n\n1. Llama starts with 5 tennis balls.\n2. Llama buys 2 more cans of tennis balls, and each can contains 3 tennis balls.\n3. So, Llama now has 5 + 2 x 3 = 5 + 6 = 11 tennis balls."
          },
          "metadata": {}
        }
      ]
    },
    {
      "cell_type": "markdown",
      "metadata": {
        "id": "C7tDW-AH770Y"
      },
      "source": [
        "### **4.3 - Retrieval Augmented Generation (RAG)**\n",
        "* Prompt Eng Limitations - Knowledge cutoff & lack of specialized data\n",
        "\n",
        "* Retrieval Augmented Generation(RAG) allows us to retrieve snippets of information from external data sources and augment it to the user's prompt to get tailored responses from Llama 2.\n",
        "\n",
        "For our demo, we are going to download an external PDF file from a URL and query against the content in the pdf file to get contextually relevant information back with the help of Llama!\n",
        "\n",
        "\n",
        "\n"
      ]
    },
    {
      "cell_type": "code",
      "source": [
        "rag_arch()"
      ],
      "metadata": {
        "id": "Fl1LPltpRQD9",
        "colab": {
          "base_uri": "https://localhost:8080/",
          "height": 259
        },
        "outputId": "dc8a922a-aa2a-4ae1-ba94-34689b4be6e5"
      },
      "execution_count": null,
      "outputs": [
        {
          "output_type": "display_data",
          "data": {
            "text/html": [
              "<img src=\"https://mermaid.ink/img/CiAgZmxvd2NoYXJ0IFRECiAgICBBW1VzZXIgUHJvbXB0c10gLS0+IEIoRnJhbWV3b3JrcyBlLmcuIExhbmdDaGFpbikKICAgIEIgPC0tPiB8RGF0YWJhc2UsIERvY3MsIFhMU3xDW2ZhOmZhLWRhdGFiYXNlIEV4dGVybmFsIERhdGFdCiAgICBCIC0tPnxBUEl8RFtMbGFtYSAyXQogICAgY2xhc3NEZWYgZGVmYXVsdCBmaWxsOiNDQ0U2RkYsc3Ryb2tlOiM4NEJDRjUsdGV4dENvbG9yOiMxQzJCMzMsZm9udEZhbWlseTp0cmVidWNoZXQgbXM7CiAg\"/>"
            ],
            "text/plain": [
              "<IPython.core.display.Image object>"
            ]
          },
          "metadata": {}
        }
      ]
    },
    {
      "cell_type": "markdown",
      "source": [
        "#### **4.3.1 - LangChain**\n",
        "LangChain is a framework that helps make it easier to implement RAG."
      ],
      "metadata": {
        "id": "JJaGMLl_4vYm"
      }
    },
    {
      "cell_type": "code",
      "execution_count": null,
      "metadata": {
        "id": "aoqU3KTcHTWN"
      },
      "outputs": [],
      "source": [
        "# langchain setup\n",
        "from langchain.llms import Replicate\n",
        "# Use the Llama 2 model hosted on Replicate\n",
        "# Temperature: Adjusts randomness of outputs, greater than 1 is random and 0 is deterministic, 0.75 is a good starting value\n",
        "# top_p: When decoding text, samples from the top p percentage of most likely tokens; lower to ignore less likely tokens\n",
        "# max_new_tokens: Maximum number of tokens to generate. A word is generally 2-3 tokens\n",
        "llama_model = Replicate(\n",
        "    model=llama2_13b,\n",
        "    model_kwargs={\"temperature\": 0.75,\"top_p\": 1, \"max_new_tokens\":1000}\n",
        ")"
      ]
    },
    {
      "cell_type": "code",
      "execution_count": null,
      "metadata": {
        "id": "gAV2EkZqcruF"
      },
      "outputs": [],
      "source": [
        "# Step 1: load the external data source. In our case, we will load Meta’s “Responsible Use Guide” pdf document.\n",
        "from langchain.document_loaders import OnlinePDFLoader\n",
        "loader = OnlinePDFLoader(\"https://ai.meta.com/static-resource/responsible-use-guide/\")\n",
        "documents = loader.load()\n",
        "\n",
        "# Step 2: Get text splits from document\n",
        "from langchain.text_splitter import RecursiveCharacterTextSplitter\n",
        "text_splitter = RecursiveCharacterTextSplitter(chunk_size=1000, chunk_overlap=20)\n",
        "all_splits = text_splitter.split_documents(documents)\n",
        "\n",
        "# Step 3: Use the embedding model\n",
        "from langchain.vectorstores import FAISS\n",
        "from langchain.embeddings import HuggingFaceEmbeddings\n",
        "model_name = \"sentence-transformers/all-mpnet-base-v2\" # embedding model\n",
        "model_kwargs = {\"device\": \"cpu\"}\n",
        "embeddings = HuggingFaceEmbeddings(model_name=model_name, model_kwargs=model_kwargs)\n",
        "\n",
        "# Step 4: Use vector store to store embeddings\n",
        "vectorstore = FAISS.from_documents(all_splits, embeddings)"
      ]
    },
    {
      "cell_type": "markdown",
      "metadata": {
        "id": "K2l8S5tBxlkc"
      },
      "source": [
        "#### **4.3.2 - LangChain Q&A Retriever**\n",
        "* ConversationalRetrievalChain\n",
        "\n",
        "* Query the Source documents\n"
      ]
    },
    {
      "cell_type": "code",
      "execution_count": null,
      "metadata": {
        "id": "NmEhBe3Kiyre",
        "colab": {
          "base_uri": "https://localhost:8080/",
          "height": 104
        },
        "outputId": "c4201e4a-6f1d-47cf-c59d-a3875cfe4cc9"
      },
      "outputs": [
        {
          "output_type": "display_data",
          "data": {
            "text/plain": [
              "<IPython.core.display.Markdown object>"
            ],
            "text/markdown": " Sure, I'd be happy to help! Based on the context provided, here is how Meta is approaching open science in two short sentences:\n\nMeta is committed to open science because we believe that a vibrant AI-innovation ecosystem will push the frontiers of scientific discovery and potentially revolutionize a wide array of sectors from education to agriculture, and climate management to cybersecurity. By democratizing access to AI technology and promoting collaboration on risk management, we aim to unlock the power of AI for the benefit of all."
          },
          "metadata": {}
        }
      ],
      "source": [
        "# Query against your own data\n",
        "from langchain.chains import ConversationalRetrievalChain\n",
        "chain = ConversationalRetrievalChain.from_llm(llama_model, vectorstore.as_retriever(), return_source_documents=True)\n",
        "\n",
        "chat_history = []\n",
        "query = \"How is Meta approaching open science in two short sentences?\"\n",
        "result = chain({\"question\": query, \"chat_history\": chat_history})\n",
        "md(result['answer'])"
      ]
    },
    {
      "cell_type": "code",
      "execution_count": null,
      "metadata": {
        "id": "CelLHIvoy2Ke",
        "colab": {
          "base_uri": "https://localhost:8080/",
          "height": 180
        },
        "outputId": "472a2bc2-f308-4be5-ad89-880b4f42f293"
      },
      "outputs": [
        {
          "output_type": "display_data",
          "data": {
            "text/plain": [
              "<IPython.core.display.Markdown object>"
            ],
            "text/markdown": " Hello! I'd be happy to help answer your questions based on the provided context.\n\nRegarding Meta's approach to open science, it is benefiting the world by democratizing access to advanced AI technologies like generative AI models. By open sourcing code and datasets, Meta is putting these models in more people's hands, which we believe is the right path to ensure that this technology will benefit the world at large. This approach will contribute to the infrastructure of the AI-developer community with tools like PyTorch. Additionally, Meta is committed to responsible AI practices such as fairness and inclusion, robustness and safety, privacy and security, transparency and control, governance and accountability. These principles will help mitigate novel challenges for the responsible deployment of AI, while many of the principles of responsibility remain the same as for any other AI technology.\n\nPlease let me know if you have any further questions or if there's anything else I can assist you with!"
          },
          "metadata": {}
        }
      ],
      "source": [
        "# This time your previous question and answer will be included as a chat history which will enable the ability\n",
        "# to ask follow up questions.\n",
        "chat_history = [(query, result[\"answer\"])]\n",
        "query = \"How is it benefiting the world?\"\n",
        "result = chain({\"question\": query, \"chat_history\": chat_history})\n",
        "md(result['answer'])"
      ]
    },
    {
      "cell_type": "markdown",
      "source": [
        "## **5 - Fine-Tuning Models**\n",
        "\n",
        "* Limitations of Prompt Eng and RAG\n",
        "* Fine-Tuning\n",
        "* Types (PEFT, LoRA, QLoRA)\n",
        "* Evals + Quality\n",
        "\n",
        "* PyTorch for Pre-Training & Fine-Tuning\n"
      ],
      "metadata": {
        "id": "TEvefAWIJONx"
      }
    },
    {
      "cell_type": "code",
      "source": [
        "fine_tuned_arch()"
      ],
      "metadata": {
        "colab": {
          "base_uri": "https://localhost:8080/",
          "height": 79
        },
        "id": "0a9CvJ8YcTzV",
        "outputId": "6e9578ca-cb6b-4aa4-8b7c-28a93d99d424"
      },
      "execution_count": null,
      "outputs": [
        {
          "output_type": "display_data",
          "data": {
            "text/html": [
              "<img src=\"https://mermaid.ink/img/CiAgZ3JhcGggTFI7CiAgICAgIEN1c3RvbV9EYXRhc2V0IC0tPiBQcmUtdHJhaW5lZF9MbGFtYQogICAgICBQcmUtdHJhaW5lZF9MbGFtYSAtLT4gRmluZS10dW5lZF9MbGFtYQogICAgICBGaW5lLXR1bmVkX0xsYW1hIC0tPiBSTEhGCiAgICAgIFJMSEYgLS0+IHxMb3NzOkNyb3NzLUVudHJvcHl8RmluZS10dW5lZF9MbGFtYQogICAgICBjbGFzc0RlZiBkZWZhdWx0IGZpbGw6I0NDRTZGRixzdHJva2U6Izg0QkNGNSx0ZXh0Q29sb3I6IzFDMkIzMyxmb250RmFtaWx5OnRyZWJ1Y2hldCBtczsKICA=\"/>"
            ],
            "text/plain": [
              "<IPython.core.display.Image object>"
            ]
          },
          "metadata": {}
        }
      ]
    },
    {
      "cell_type": "markdown",
      "metadata": {
        "id": "_8lcgdZa8onC"
      },
      "source": [
        "## **6 - Responsible AI**\n",
        "\n",
        "* Power + Responsibility\n",
        "* Hallucination\n",
        "* Input & Output Safety\n",
        "* Red-teaming (simulating real-world cyber attackers)\n",
        "* Review [Responsible Use Guide](https://ai.meta.com/llama/responsible-use-guide/)\n",
        "\n"
      ]
    },
    {
      "cell_type": "markdown",
      "metadata": {
        "id": "pbqb006R-T_k"
      },
      "source": [
        "##**7 - Conclusion**\n",
        "* Active research on LLMs and Llama\n",
        "* Leverage the power of Llama and its open community (Github - 42k stars, 7k forks)\n",
        "* Call-To-Action\n",
        "  * This notebook is available through [Llama Github recipes](https://github.com/facebookresearch/llama-recipes)\n",
        "  * [Replicate Free Credits](https://replicate.fyi/connect2023) for Connect attendees!\n",
        "  * Excited to see what you all develop with Llama!!!\n",
        "\n"
      ]
    },
    {
      "cell_type": "markdown",
      "source": [
        "#### **Resources**\n",
        "- [GitHub - Llama 2](https://github.com/facebookresearch/llama)\n",
        "- [Github - LLama 2 Recipes](https://github.com/facebookresearch/llama-recipes)\n",
        "- [Llama 2](https://ai.meta.com/llama/)\n",
        "- [Research Paper](https://ai.meta.com/research/publications/llama-2-open-foundation-and-fine-tuned-chat-models/)\n",
        "- [Model Card](https://github.com/facebookresearch/llama/blob/main/MODEL_CARD.md)\n",
        "- [Responsible Use Guide](https://ai.meta.com/llama/responsible-use-guide/)\n",
        "- [Acceptable Use Policy](https://ai.meta.com/llama/use-policy/)\n",
        "- [Replicate](https://replicate.com/meta/)\n",
        "- [LangChain](https://www.langchain.com/)\n",
        "\n"
      ],
      "metadata": {
        "id": "gSz5dTMxp7xo"
      }
    },
    {
      "cell_type": "markdown",
      "source": [
        "#### **Authors & Contact**\n",
        "  * asangani@meta.com, [Amit Sangani | LinkedIn](https://www.linkedin.com/in/amitsangani/)\n",
        "  * mohsena@meta.com, [Mohsen Agsen | LinkedIn](https://www.linkedin.com/in/mohsen-agsen-62a9791/)\n"
      ],
      "metadata": {
        "id": "V7aI6fhZp-KC"
      }
    },
    {
      "cell_type": "markdown",
      "source": [
        "To access this colab notebook and \"AI at Meta\" resources, use QR code below."
      ],
      "metadata": {
        "id": "CxkYUnWd5Bek"
      }
    },
    {
      "cell_type": "markdown",
      "source": [
        "![QR_Code_n.png](data:image/png;base64,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)"
      ],
      "metadata": {
        "id": "dBLLuoXY48IK"
      }
    }
  ],
  "metadata": {
    "colab": {
      "provenance": [],
      "machine_shape": "hm",
      "collapsed_sections": [
        "ioVMNcTesSEk"
      ],
      "toc_visible": true,
      "include_colab_link": true
    },
    "kernelspec": {
      "display_name": "Python 3",
      "name": "python3"
    },
    "language_info": {
      "codemirror_mode": {
        "name": "ipython",
        "version": 3
      },
      "file_extension": ".py",
      "mimetype": "text/x-python",
      "name": "python",
      "nbconvert_exporter": "python",
      "pygments_lexer": "ipython3",
      "version": "3.9.6"
    }
  },
  "nbformat": 4,
  "nbformat_minor": 0
}