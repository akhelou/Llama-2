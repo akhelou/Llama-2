{
  "cells": [
    {
      "cell_type": "markdown",
      "metadata": {
        "id": "view-in-github",
        "colab_type": "text"
      },
      "source": [
        "<a href=\"https://colab.research.google.com/github/amitsangani/Llama-2/blob/main/Building_Using_Llama.ipynb\" target=\"_parent\"><img src=\"https://colab.research.google.com/assets/colab-badge.svg\" alt=\"Open In Colab\"/></a>"
      ]
    },
    {
      "cell_type": "markdown",
      "source": [
        "![Meta---Logo@1x.jpg](data:image/jpeg;base64,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)"
      ],
      "metadata": {
        "id": "RJSnI0Xy-kCm"
      }
    },
    {
      "cell_type": "markdown",
      "metadata": {
        "id": "LERqQn5v8-ak"
      },
      "source": [
        "# **Building Using Llama 2: Everything you need to start building**\n",
        "Our goal in this session is to provide a guided tour of Llama 2, including understanding different Llama 2 models, how and where to access them, Generative AI and Chatbot architectures, prompt engineering, RAG (Retrieval Augmented Generation), Fine-tuning and more. All this is implemented with a starter code for you to take it and use it in your Llama 2 projects."
      ]
    },
    {
      "cell_type": "markdown",
      "source": [
        "##**0 - Prerequisites**\n",
        "* Basic understanding of Large Language Models\n",
        "\n",
        "* Basic understanding of Python"
      ],
      "metadata": {
        "id": "ioVMNcTesSEk"
      }
    },
    {
      "cell_type": "code",
      "execution_count": null,
      "metadata": {
        "id": "ktEA7qXmwdUM"
      },
      "outputs": [],
      "source": [
        "# presentation layer code\n",
        "\n",
        "import base64\n",
        "from IPython.display import Image, display\n",
        "import matplotlib.pyplot as plt\n",
        "\n",
        "def mm(graph):\n",
        "  graphbytes = graph.encode(\"ascii\")\n",
        "  base64_bytes = base64.b64encode(graphbytes)\n",
        "  base64_string = base64_bytes.decode(\"ascii\")\n",
        "  display(Image(url=\"https://mermaid.ink/img/\" + base64_string))\n",
        "\n",
        "def genai_app_arch():\n",
        "  mm(\"\"\"\n",
        "  flowchart TD\n",
        "    A[Users] --> B(Applications e.g. mobile, web)\n",
        "    B --> |Hosted API|C(Platforms e.g. Custom, HuggingFace, Replicate)\n",
        "    B -- optional --> E(Frameworks e.g. LangChain)\n",
        "    C-->|User Input|D[Llama 2]\n",
        "    D-->|Model Output|C\n",
        "    E --> C\n",
        "    classDef default fill:#CCE6FF,stroke:#84BCF5,textColor:#1C2B33,fontFamily:trebuchet ms;\n",
        "  \"\"\")\n",
        "\n",
        "def rag_arch():\n",
        "  mm(\"\"\"\n",
        "  flowchart TD\n",
        "    A[User Prompts] --> B(Frameworks e.g. LangChain)\n",
        "    B <--> |Database, Docs, XLS|C[fa:fa-database External Data]\n",
        "    B -->|API|D[Llama 2]\n",
        "    classDef default fill:#CCE6FF,stroke:#84BCF5,textColor:#1C2B33,fontFamily:trebuchet ms;\n",
        "  \"\"\")\n",
        "\n",
        "def llama2_family():\n",
        "  mm(\"\"\"\n",
        "  graph LR;\n",
        "      llama-2 --> llama-2-7b\n",
        "      llama-2 --> llama-2-13b\n",
        "      llama-2 --> llama-2-70b\n",
        "      llama-2-7b --> llama-2-7b-chat\n",
        "      llama-2-13b --> llama-2-13b-chat\n",
        "      llama-2-70b --> llama-2-70b-chat\n",
        "      classDef default fill:#CCE6FF,stroke:#84BCF5,textColor:#1C2B33,fontFamily:trebuchet ms;\n",
        "  \"\"\")\n",
        "\n",
        "def apps_and_llms():\n",
        "  mm(\"\"\"\n",
        "  graph LR;\n",
        "    users --> apps\n",
        "    apps --> frameworks\n",
        "    frameworks --> platforms\n",
        "    platforms --> Llama 2\n",
        "    classDef default fill:#CCE6FF,stroke:#84BCF5,textColor:#1C2B33,fontFamily:trebuchet ms;\n",
        "  \"\"\")\n",
        "\n",
        "import ipywidgets as widgets\n",
        "from IPython.display import display, Markdown\n",
        "\n",
        "# Create a text widget\n",
        "API_KEY = widgets.Password(\n",
        "    value='',\n",
        "    placeholder='',\n",
        "    description='API_KEY:',\n",
        "    disabled=False\n",
        ")\n",
        "\n",
        "def md(t):\n",
        "  display(Markdown(t))\n",
        "\n",
        "def bot_arch():\n",
        "  mm(\"\"\"\n",
        "  graph LR;\n",
        "  user --> prompt\n",
        "  prompt --> i_safety\n",
        "  i_safety --> context\n",
        "  context --> Llama_2\n",
        "  Llama_2 --> output\n",
        "  output --> o_safety\n",
        "  i_safety --> memory\n",
        "  o_safety --> memory\n",
        "  memory --> context\n",
        "  o_safety --> user\n",
        "  classDef default fill:#CCE6FF,stroke:#84BCF5,textColor:#1C2B33,fontFamily:trebuchet ms;\n",
        "  \"\"\")\n",
        "\n",
        "def fine_tuned_arch():\n",
        "  mm(\"\"\"\n",
        "  graph LR;\n",
        "      Custom_Dataset --> Pre-trained_Llama\n",
        "      Pre-trained_Llama --> Fine-tuned_Llama\n",
        "      Fine-tuned_Llama --> RLHF\n",
        "      RLHF --> |Loss:Cross-Entropy|Fine-tuned_Llama\n",
        "      classDef default fill:#CCE6FF,stroke:#84BCF5,textColor:#1C2B33,fontFamily:trebuchet ms;\n",
        "  \"\"\")\n",
        "\n",
        "def load_data_faiss_arch():\n",
        "  mm(\"\"\"\n",
        "  graph LR;\n",
        "      documents --> textsplitter\n",
        "      textsplitter --> embeddings\n",
        "      embeddings --> vectorstore\n",
        "      classDef default fill:#CCE6FF,stroke:#84BCF5,textColor:#1C2B33,fontFamily:trebuchet ms;\n",
        "  \"\"\")\n",
        "\n",
        "def mem_context():\n",
        "  mm(\"\"\"\n",
        "      graph LR\n",
        "      context(text)\n",
        "      user_prompt --> context\n",
        "      instruction --> context\n",
        "      examples --> context\n",
        "      memory --> context\n",
        "      context --> tokenizer\n",
        "      tokenizer --> embeddings\n",
        "      embeddings --> LLM\n",
        "      classDef default fill:#CCE6FF,stroke:#84BCF5,textColor:#1C2B33,fontFamily:trebuchet ms;\n",
        "  \"\"\")\n"
      ]
    },
    {
      "cell_type": "markdown",
      "source": [
        "##**1 - Understanding Llama 2**"
      ],
      "metadata": {
        "id": "i4Np_l_KtIno"
      }
    },
    {
      "cell_type": "markdown",
      "metadata": {
        "id": "PGPSI3M5PGTi"
      },
      "source": [
        "### **1.1 - What is Llama 2?**\n",
        "\n",
        "* State of the art (SOTA), Open Source LLM\n",
        "* 7B, 13B, 70B\n",
        "* Choosing model: Size, Quality, Cost, Speed\n",
        "* Pretrained + Chat\n",
        "* [Research paper](https://ai.meta.com/research/publications/llama-2-open-foundation-and-fine-tuned-chat-models/)\n",
        "\n",
        "* [Responsible use guide](https://ai.meta.com/llama/responsible-use-guide/)"
      ]
    },
    {
      "cell_type": "code",
      "execution_count": null,
      "metadata": {
        "id": "OXRCC7wexZXd",
        "colab": {
          "base_uri": "https://localhost:8080/",
          "height": 240
        },
        "outputId": "1cb95138-df8e-4531-831d-bdfbe9b5eb97"
      },
      "outputs": [
        {
          "output_type": "display_data",
          "data": {
            "text/html": [
              "<img src=\"https://mermaid.ink/img/CiAgZ3JhcGggTFI7CiAgICAgIGxsYW1hLTIgLS0+IGxsYW1hLTItN2IKICAgICAgbGxhbWEtMiAtLT4gbGxhbWEtMi0xM2IKICAgICAgbGxhbWEtMiAtLT4gbGxhbWEtMi03MGIKICAgICAgbGxhbWEtMi03YiAtLT4gbGxhbWEtMi03Yi1jaGF0CiAgICAgIGxsYW1hLTItMTNiIC0tPiBsbGFtYS0yLTEzYi1jaGF0CiAgICAgIGxsYW1hLTItNzBiIC0tPiBsbGFtYS0yLTcwYi1jaGF0CiAgICAgIGNsYXNzRGVmIGRlZmF1bHQgZmlsbDojQ0NFNkZGLHN0cm9rZTojODRCQ0Y1LHRleHRDb2xvcjojMUMyQjMzLGZvbnRGYW1pbHk6dHJlYnVjaGV0IG1zOwogIA==\"/>"
            ],
            "text/plain": [
              "<IPython.core.display.Image object>"
            ]
          },
          "metadata": {}
        }
      ],
      "source": [
        "llama2_family()"
      ]
    },
    {
      "cell_type": "markdown",
      "metadata": {
        "id": "aYeHVVh45bdT"
      },
      "source": [
        "###**1.2 - Accessing Llama 2**\n",
        "* Download + Self Host (on-premise)\n",
        "* Hosted API Platform (e.g. [Replicate](https://replicate.com/meta))\n",
        "\n",
        "* Hosted Container Platform (e.g. [Azure](https://techcommunity.microsoft.com/t5/ai-machine-learning-blog/introducing-llama-2-on-azure/ba-p/3881233), [AWS](https://aws.amazon.com/blogs/machine-learning/llama-2-foundation-models-from-meta-are-now-available-in-amazon-sagemaker-jumpstart/), [GCP](https://console.cloud.google.com/vertex-ai/publishers/google/model-garden/139))\n",
        "\n"
      ]
    },
    {
      "cell_type": "markdown",
      "source": [
        "### **1.3 - Use Cases of Llama 2**\n",
        "* Content Generation\n",
        "* Chatbots\n",
        "* Summarization\n",
        "* Programming (e.g. Code Llama)\n",
        "\n",
        "* and many more..."
      ],
      "metadata": {
        "id": "kBuSay8vtzL4"
      }
    },
    {
      "cell_type": "markdown",
      "source": [
        "##**2 - Using Llama 2**\n",
        "\n",
        "In this notebook, we are going to access [Llama 13b chat model](https://replicate.com/meta/llama-2-13b-chat) using hosted API from Replicate."
      ],
      "metadata": {
        "id": "sd54g0OHuqBY"
      }
    },
    {
      "cell_type": "markdown",
      "metadata": {
        "id": "h3YGMDJidHtH"
      },
      "source": [
        "### **2.1 - Install dependencies**"
      ]
    },
    {
      "cell_type": "code",
      "execution_count": null,
      "metadata": {
        "id": "VhN6hXwx7FCp"
      },
      "outputs": [],
      "source": [
        "# Install dependencies and initialize\n",
        "%pip install -qU \\\n",
        "    replicate \\\n",
        "    langchain \\\n",
        "    sentence_transformers \\\n",
        "    pdf2image \\\n",
        "    pdfminer \\\n",
        "    pdfminer.six \\\n",
        "    unstructured \\\n",
        "    faiss-gpu"
      ]
    },
    {
      "cell_type": "code",
      "source": [
        "# model url on Replicate platform that we will use for inferencing\n",
        "# We will use llama 23b chat model hosted on replicate server ()\n",
        "\n",
        "llama2_13b = \"meta/llama-2-13b-chat:f4e2de70d66816a838a89eeeb621910adffb0dd0baba3976c96980970978018d\""
      ],
      "metadata": {
        "id": "Z8Y8qjEjmg50"
      },
      "execution_count": null,
      "outputs": []
    },
    {
      "cell_type": "code",
      "execution_count": null,
      "metadata": {
        "id": "8hkWpqWD28ho",
        "colab": {
          "base_uri": "https://localhost:8080/"
        },
        "outputId": "e8e619ca-1c76-4a57-e2a1-380066920615"
      },
      "outputs": [
        {
          "name": "stdout",
          "output_type": "stream",
          "text": [
            "··········\n"
          ]
        }
      ],
      "source": [
        "# We will use Replicate hosted cloud environment\n",
        "# Obtain Replicate API key → https://replicate.com/account/api-tokens)\n",
        "\n",
        "# enter your replicate api token\n",
        "from getpass import getpass\n",
        "import os\n",
        "\n",
        "REPLICATE_API_TOKEN = getpass()\n",
        "os.environ[\"REPLICATE_API_TOKEN\"] = REPLICATE_API_TOKEN\n",
        "\n",
        "# alternatively, you can also store the tokens in environment variables and load it here"
      ]
    },
    {
      "cell_type": "code",
      "source": [
        "# we will use replicate's hosted api\n",
        "import replicate\n",
        "\n",
        "# text completion with input prompt\n",
        "def Completion(prompt):\n",
        "  output = replicate.run(\n",
        "      llama2_13b,\n",
        "      input={\"prompt\": prompt, \"max_new_tokens\":1000}\n",
        "  )\n",
        "  return \"\".join(output)\n",
        "\n",
        "# chat completion with input prompt and system prompt\n",
        "def ChatCompletion(prompt, system_prompt=None):\n",
        "  output = replicate.run(\n",
        "    llama2_13b,\n",
        "    input={\"system_prompt\": system_prompt,\n",
        "            \"prompt\": prompt,\n",
        "            \"max_new_tokens\":1000}\n",
        "  )\n",
        "  return \"\".join(output)"
      ],
      "metadata": {
        "id": "bVCHZmETk36v"
      },
      "execution_count": null,
      "outputs": []
    },
    {
      "cell_type": "markdown",
      "metadata": {
        "id": "5Jxq0pmf6L73"
      },
      "source": [
        "### **2.2 - Basic completion**"
      ]
    },
    {
      "cell_type": "code",
      "execution_count": null,
      "metadata": {
        "id": "H93zZBIk6tNU",
        "colab": {
          "base_uri": "https://localhost:8080/",
          "height": 64
        },
        "outputId": "82bbda3b-79c2-4510-889e-80f498d5568d"
      },
      "outputs": [
        {
          "output_type": "display_data",
          "data": {
            "text/plain": [
              "<IPython.core.display.Markdown object>"
            ],
            "text/markdown": " Oh my gosh, that's an easy one! The typical color of a llama is... (drumroll please)... GRAY! es, llamas are known for their beautiful gray coats, which can range in shade from light to dark. Some llamas may even have white markings on their faces or legs, but overall, gray is the most common color you'll see. "
          },
          "metadata": {}
        }
      ],
      "source": [
        "output = Completion(prompt=\"The typical color of a llama is: \")\n",
        "md(output)"
      ]
    },
    {
      "cell_type": "markdown",
      "metadata": {
        "id": "StccjUDh6W0Q"
      },
      "source": [
        "### **2.3 - System prompts**\n"
      ]
    },
    {
      "cell_type": "code",
      "execution_count": null,
      "metadata": {
        "id": "VRnFogxd6rTc",
        "colab": {
          "base_uri": "https://localhost:8080/",
          "height": 46
        },
        "outputId": "026379d0-6d10-491f-e203-9c86adc28a62"
      },
      "outputs": [
        {
          "output_type": "display_data",
          "data": {
            "text/plain": [
              "<IPython.core.display.Markdown object>"
            ],
            "text/markdown": " Grey"
          },
          "metadata": {}
        }
      ],
      "source": [
        "output = ChatCompletion(\n",
        "    prompt=\"The typical color of a llama is: \",\n",
        "    system_prompt=\"respond with only one word\"\n",
        "  )\n",
        "md(output)"
      ]
    },
    {
      "cell_type": "markdown",
      "metadata": {
        "id": "Hp4GNa066pYy"
      },
      "source": [
        "### **2.4 - Response formats**\n",
        "* Can support different formatted outputs e.g. text, JSON, etc."
      ]
    },
    {
      "cell_type": "code",
      "source": [
        "output = ChatCompletion(\n",
        "    prompt=\"The typical color of a llama is: \",\n",
        "    system_prompt=\"response in json format\"\n",
        "  )\n",
        "md(output)"
      ],
      "metadata": {
        "id": "HTN79h4RptgQ",
        "colab": {
          "base_uri": "https://localhost:8080/",
          "height": 46
        },
        "outputId": "263fd795-17af-4973-afc3-ceeef3765dec"
      },
      "execution_count": null,
      "outputs": [
        {
          "output_type": "display_data",
          "data": {
            "text/plain": [
              "<IPython.core.display.Markdown object>"
            ],
            "text/markdown": " {\n\"color\": \"brown\"\n}"
          },
          "metadata": {}
        }
      ]
    },
    {
      "cell_type": "markdown",
      "metadata": {
        "id": "cWs_s9y-avIT"
      },
      "source": [
        "## **3 - Gen AI Application Architecture**\n",
        "\n",
        "Here is the high-level tech stack/architecture of Generative AI application."
      ]
    },
    {
      "cell_type": "code",
      "source": [
        "genai_app_arch()"
      ],
      "metadata": {
        "id": "j9BGuI-9AOL5",
        "colab": {
          "base_uri": "https://localhost:8080/",
          "height": 446
        },
        "outputId": "270a00cd-dd0a-4db3-f500-0efc96d8ee8f"
      },
      "execution_count": null,
      "outputs": [
        {
          "output_type": "display_data",
          "data": {
            "text/html": [
              "<img src=\"https://mermaid.ink/img/CiAgZmxvd2NoYXJ0IFRECiAgICBBW1VzZXJzXSAtLT4gQihBcHBsaWNhdGlvbnMgZS5nLiBtb2JpbGUsIHdlYikKICAgIEIgLS0+IHxIb3N0ZWQgQVBJfEMoUGxhdGZvcm1zIGUuZy4gQ3VzdG9tLCBIdWdnaW5nRmFjZSwgUmVwbGljYXRlKQogICAgQiAtLSBvcHRpb25hbCAtLT4gRShGcmFtZXdvcmtzIGUuZy4gTGFuZ0NoYWluKQogICAgQy0tPnxVc2VyIElucHV0fERbTGxhbWEgMl0KICAgIEQtLT58TW9kZWwgT3V0cHV0fEMKICAgIEUgLS0+IEMKICAgIGNsYXNzRGVmIGRlZmF1bHQgZmlsbDojQ0NFNkZGLHN0cm9rZTojODRCQ0Y1LHRleHRDb2xvcjojMUMyQjMzLGZvbnRGYW1pbHk6dHJlYnVjaGV0IG1zOwogIA==\"/>"
            ],
            "text/plain": [
              "<IPython.core.display.Image object>"
            ]
          },
          "metadata": {}
        }
      ]
    },
    {
      "cell_type": "markdown",
      "metadata": {
        "id": "6UlxBtbgys6j"
      },
      "source": [
        "##4 - **Chatbot Architecture**\n",
        "\n",
        "Here are the key components and the information flow in a chatbot.\n",
        "\n",
        "* User Prompts\n",
        "* Input Safety\n",
        "* Llama 2\n",
        "* Output Safety\n",
        "\n",
        "* Memory & Context"
      ]
    },
    {
      "cell_type": "code",
      "execution_count": null,
      "metadata": {
        "id": "tO5HnB56ys6t",
        "colab": {
          "base_uri": "https://localhost:8080/",
          "height": 178
        },
        "outputId": "1a4c5844-b632-414f-dd2b-51e3c1b849c5"
      },
      "outputs": [
        {
          "output_type": "display_data",
          "data": {
            "text/html": [
              "<img src=\"https://mermaid.ink/img/CiAgZ3JhcGggTFI7CiAgdXNlciAtLT4gcHJvbXB0CiAgcHJvbXB0IC0tPiBpX3NhZmV0eQogIGlfc2FmZXR5IC0tPiBjb250ZXh0CiAgY29udGV4dCAtLT4gTGxhbWFfMgogIExsYW1hXzIgLS0+IG91dHB1dAogIG91dHB1dCAtLT4gb19zYWZldHkKICBpX3NhZmV0eSAtLT4gbWVtb3J5CiAgb19zYWZldHkgLS0+IG1lbW9yeQogIG1lbW9yeSAtLT4gY29udGV4dAogIG9fc2FmZXR5IC0tPiB1c2VyCiAgY2xhc3NEZWYgZGVmYXVsdCBmaWxsOiNDQ0U2RkYsc3Ryb2tlOiM4NEJDRjUsdGV4dENvbG9yOiMxQzJCMzMsZm9udEZhbWlseTp0cmVidWNoZXQgbXM7CiAg\"/>"
            ],
            "text/plain": [
              "<IPython.core.display.Image object>"
            ]
          },
          "metadata": {}
        }
      ],
      "source": [
        "bot_arch()"
      ]
    },
    {
      "cell_type": "markdown",
      "metadata": {
        "id": "r4DyTLD5ys6t"
      },
      "source": [
        "### **4.1 - Chat conversation**\n",
        "* LLMs are stateless\n",
        "* Single Turn\n",
        "\n",
        "* Multi Turn (Memory)\n",
        "\n"
      ]
    },
    {
      "cell_type": "code",
      "execution_count": null,
      "metadata": {
        "id": "EMM_egWMys6u",
        "colab": {
          "base_uri": "https://localhost:8080/",
          "height": 46
        },
        "outputId": "08f23159-7491-4b7a-a208-12b7ac63cb6f"
      },
      "outputs": [
        {
          "output_type": "display_data",
          "data": {
            "text/plain": [
              "<IPython.core.display.Markdown object>"
            ],
            "text/markdown": " About 20-30 years."
          },
          "metadata": {}
        }
      ],
      "source": [
        "# example of single turn chat\n",
        "prompt_chat = \"What is the average lifespan of a Llama?\"\n",
        "output = ChatCompletion(prompt=prompt_chat, system_prompt=\"answer the question in few words\")\n",
        "md(output)"
      ]
    },
    {
      "cell_type": "code",
      "source": [
        "# example without previous context. LLM's are stateless and cannot understand \"they\" without previous context\n",
        "prompt_chat = \"What animal family are they?\"\n",
        "output = ChatCompletion(prompt=prompt_chat, system_prompt=\"answer the question in few words\")\n",
        "md(output)"
      ],
      "metadata": {
        "id": "sZ7uVKDYucgi",
        "colab": {
          "base_uri": "https://localhost:8080/",
          "height": 70
        },
        "outputId": "0be279a6-7c8e-47c9-c9ff-e179f4c10801"
      },
      "execution_count": null,
      "outputs": [
        {
          "output_type": "display_data",
          "data": {
            "text/plain": [
              "<IPython.core.display.Markdown object>"
            ],
            "text/markdown": " Sure! Here's my answer:\n\nThey are a type of feline."
          },
          "metadata": {}
        }
      ]
    },
    {
      "cell_type": "markdown",
      "source": [
        "Chat app requires us to send in previous context to LLM to get in valid responses. Below is an example of Multi-turn chat."
      ],
      "metadata": {
        "id": "WQl3wmfbyBQ1"
      }
    },
    {
      "cell_type": "code",
      "source": [
        "# example of multi-turn chat, with storing previous context\n",
        "prompt_chat = \"\"\"\n",
        "User: What is the average lifespan of a Llama?\n",
        "Assistant: Sure! The average lifespan of a llama is around 20-30 years.\n",
        "User: What animal family are they?\n",
        "\"\"\"\n",
        "output = ChatCompletion(prompt=prompt_chat, system_prompt=\"answer the question in few words\")\n",
        "md(output)"
      ],
      "metadata": {
        "colab": {
          "base_uri": "https://localhost:8080/",
          "height": 46
        },
        "id": "t7SZe5fT3HG3",
        "outputId": "363373fc-ce84-48a5-8a9d-d7793341fbe2"
      },
      "execution_count": null,
      "outputs": [
        {
          "output_type": "display_data",
          "data": {
            "text/plain": [
              "<IPython.core.display.Markdown object>"
            ],
            "text/markdown": " Sure! Llamas belong to the camelid family."
          },
          "metadata": {}
        }
      ]
    },
    {
      "cell_type": "markdown",
      "metadata": {
        "id": "moXnmJ_xyD10"
      },
      "source": [
        "### **4.2 - Prompt Engineering**\n",
        "* Prompt engineering refers to the science of designing effective prompts to get desired responses\n",
        "\n",
        "* Helps reduce hallucination\n"
      ]
    },
    {
      "cell_type": "markdown",
      "metadata": {
        "id": "t-v-FeZ4ztTB"
      },
      "source": [
        "#### **4.2.1 - In-Context Learning (e.g. Zero-shot, Few-shot)**\n",
        " * In-context learning - specific method of prompt engineering where demonstration of task are provided as part of prompt.\n",
        "  1. Zero-shot learning - model is performing tasks without any\n",
        "input examples.\n",
        "  2. Few or “N-Shot” Learning - model is performing and behaving based on input examples in user's prompt."
      ]
    },
    {
      "cell_type": "code",
      "execution_count": null,
      "metadata": {
        "id": "6W71MFNZyRkQ",
        "colab": {
          "base_uri": "https://localhost:8080/",
          "height": 46
        },
        "outputId": "605a6f4b-5f01-487c-db39-623032d8d239"
      },
      "outputs": [
        {
          "output_type": "display_data",
          "data": {
            "text/plain": [
              "<IPython.core.display.Markdown object>"
            ],
            "text/markdown": " Cute"
          },
          "metadata": {}
        }
      ],
      "source": [
        "# Zero-shot example. To get positive/negative/neutral sentiment, we need to give examples in the prompt\n",
        "prompt = '''\n",
        "Classify: I saw a Gecko.\n",
        "Sentiment: ?\n",
        "'''\n",
        "output = ChatCompletion(prompt, system_prompt=\"one word response\")\n",
        "md(output)"
      ]
    },
    {
      "cell_type": "code",
      "execution_count": null,
      "metadata": {
        "id": "MCQRjf1Y1RYJ",
        "colab": {
          "base_uri": "https://localhost:8080/",
          "height": 46
        },
        "outputId": "aa1817f3-f764-4e34-ab19-83e2893efaf9"
      },
      "outputs": [
        {
          "output_type": "display_data",
          "data": {
            "text/plain": [
              "<IPython.core.display.Markdown object>"
            ],
            "text/markdown": " Neutral"
          },
          "metadata": {}
        }
      ],
      "source": [
        "# By giving examples to Llama, it understands the expected output format.\n",
        "\n",
        "prompt = '''\n",
        "Classify: I love Llamas!\n",
        "Sentiment: Positive\n",
        "Classify: I dont like Snakes.\n",
        "Sentiment: Negative\n",
        "Classify: I saw a Gecko.\n",
        "Sentiment:'''\n",
        "\n",
        "output = ChatCompletion(prompt, system_prompt=\"One word response\")\n",
        "md(output)"
      ]
    },
    {
      "cell_type": "code",
      "source": [
        "# another zero-shot learning\n",
        "prompt = '''\n",
        "QUESTION: Vicuna?\n",
        "ANSWER:'''\n",
        "\n",
        "output = ChatCompletion(prompt, system_prompt=\"one word response\")\n",
        "md(output)"
      ],
      "metadata": {
        "colab": {
          "base_uri": "https://localhost:8080/",
          "height": 46
        },
        "id": "8UmdlTmpDZxA",
        "outputId": "3c8648df-4ae4-4d82-f799-b2dbbf98f0b7"
      },
      "execution_count": null,
      "outputs": [
        {
          "output_type": "display_data",
          "data": {
            "text/plain": [
              "<IPython.core.display.Markdown object>"
            ],
            "text/markdown": " Luxurious."
          },
          "metadata": {}
        }
      ]
    },
    {
      "cell_type": "code",
      "execution_count": null,
      "metadata": {
        "id": "M_EcsUo1zqFD",
        "colab": {
          "base_uri": "https://localhost:8080/",
          "height": 46
        },
        "outputId": "7dc4000b-3245-42c7-a9d7-d35b3d7ca642"
      },
      "outputs": [
        {
          "output_type": "display_data",
          "data": {
            "text/plain": [
              "<IPython.core.display.Markdown object>"
            ],
            "text/markdown": " Yes"
          },
          "metadata": {}
        }
      ],
      "source": [
        "# Another few-shot learning example with formatted prompt.\n",
        "\n",
        "prompt = '''\n",
        "QUESTION: Llama?\n",
        "ANSWER: Yes\n",
        "QUESTION: Alpaca?\n",
        "ANSWER: Yes\n",
        "QUESTION: Rabbit?\n",
        "ANSWER: No\n",
        "QUESTION: Vicuna?\n",
        "ANSWER:'''\n",
        "\n",
        "output = ChatCompletion(prompt, system_prompt=\"one word response\")\n",
        "md(output)"
      ]
    },
    {
      "cell_type": "markdown",
      "metadata": {
        "id": "mbr124Y197xl"
      },
      "source": [
        "#### **4.2.2 - Chain of Thought**\n",
        "\"Chain of thought\" enables complex reasoning through logical step by step thinking and generates meaningful and contextually relevant responses."
      ]
    },
    {
      "cell_type": "code",
      "source": [
        "# Standard prompting\n",
        "prompt = '''\n",
        "Llama started with 5 tennis balls. It buys 2 more cans of tennis balls. Each can has 3 tennis balls. How many tennis balls does Llama have now?\n",
        "'''\n",
        "\n",
        "output = ChatCompletion(prompt, system_prompt=\"provide short answer\")\n",
        "md(output)"
      ],
      "metadata": {
        "id": "Xn8zmLBQzpgj",
        "colab": {
          "base_uri": "https://localhost:8080/",
          "height": 70
        },
        "outputId": "c47553b3-41f6-4d65-f2a4-25d093189f88"
      },
      "execution_count": null,
      "outputs": [
        {
          "output_type": "display_data",
          "data": {
            "text/plain": [
              "<IPython.core.display.Markdown object>"
            ],
            "text/markdown": " Sure! Here's the answer:\n\nLlama has 8 tennis balls now."
          },
          "metadata": {}
        }
      ]
    },
    {
      "cell_type": "code",
      "source": [
        "# Chain-Of-Thought prompting\n",
        "prompt = '''\n",
        "Llama started with 5 tennis balls. It buys 2 more cans of tennis balls. Each can has 3 tennis balls. How many tennis balls does Llama have now?\n",
        "Let's think step by step.\n",
        "'''\n",
        "\n",
        "output = ChatCompletion(prompt, system_prompt=\"provide short answer\")\n",
        "md(output)"
      ],
      "metadata": {
        "id": "lKNOj79o1Kwu",
        "colab": {
          "base_uri": "https://localhost:8080/",
          "height": 120
        },
        "outputId": "854331a8-39da-42fb-9df4-a984ceb0f36c"
      },
      "execution_count": null,
      "outputs": [
        {
          "output_type": "display_data",
          "data": {
            "text/plain": [
              "<IPython.core.display.Markdown object>"
            ],
            "text/markdown": " Sure! Here's the solution step by step:\n\n1. Llama starts with 5 tennis balls.\n2. Llama buys 2 more cans of tennis balls, and each can contains 3 tennis balls.\n3. So, Llama now has 5 + 2 x 3 = 5 + 6 = 11 tennis balls."
          },
          "metadata": {}
        }
      ]
    },
    {
      "cell_type": "markdown",
      "metadata": {
        "id": "C7tDW-AH770Y"
      },
      "source": [
        "### **4.3 - Retrieval Augmented Generation (RAG)**\n",
        "* Prompt Eng Limitations - Knowledge cutoff & lack of specialized data\n",
        "\n",
        "* Retrieval Augmented Generation(RAG) allows us to retrieve snippets of information from external data sources and augment it to the user's prompt to get tailored responses from Llama 2.\n",
        "\n",
        "For our demo, we are going to download an external PDF file from a URL and query against the content in the pdf file to get contextually relevant information back with the help of Llama!\n",
        "\n",
        "\n",
        "\n"
      ]
    },
    {
      "cell_type": "code",
      "source": [
        "rag_arch()"
      ],
      "metadata": {
        "id": "Fl1LPltpRQD9",
        "colab": {
          "base_uri": "https://localhost:8080/",
          "height": 259
        },
        "outputId": "dc8a922a-aa2a-4ae1-ba94-34689b4be6e5"
      },
      "execution_count": null,
      "outputs": [
        {
          "output_type": "display_data",
          "data": {
            "text/html": [
              "<img src=\"https://mermaid.ink/img/CiAgZmxvd2NoYXJ0IFRECiAgICBBW1VzZXIgUHJvbXB0c10gLS0+IEIoRnJhbWV3b3JrcyBlLmcuIExhbmdDaGFpbikKICAgIEIgPC0tPiB8RGF0YWJhc2UsIERvY3MsIFhMU3xDW2ZhOmZhLWRhdGFiYXNlIEV4dGVybmFsIERhdGFdCiAgICBCIC0tPnxBUEl8RFtMbGFtYSAyXQogICAgY2xhc3NEZWYgZGVmYXVsdCBmaWxsOiNDQ0U2RkYsc3Ryb2tlOiM4NEJDRjUsdGV4dENvbG9yOiMxQzJCMzMsZm9udEZhbWlseTp0cmVidWNoZXQgbXM7CiAg\"/>"
            ],
            "text/plain": [
              "<IPython.core.display.Image object>"
            ]
          },
          "metadata": {}
        }
      ]
    },
    {
      "cell_type": "markdown",
      "source": [
        "#### **4.3.1 - LangChain**\n",
        "LangChain is a framework that helps make it easier to implement RAG."
      ],
      "metadata": {
        "id": "JJaGMLl_4vYm"
      }
    },
    {
      "cell_type": "code",
      "execution_count": null,
      "metadata": {
        "id": "aoqU3KTcHTWN"
      },
      "outputs": [],
      "source": [
        "# langchain setup\n",
        "from langchain.llms import Replicate\n",
        "# Use the Llama 2 model hosted on Replicate\n",
        "# Temperature: Adjusts randomness of outputs, greater than 1 is random and 0 is deterministic, 0.75 is a good starting value\n",
        "# top_p: When decoding text, samples from the top p percentage of most likely tokens; lower to ignore less likely tokens\n",
        "# max_new_tokens: Maximum number of tokens to generate. A word is generally 2-3 tokens\n",
        "llama_model = Replicate(\n",
        "    model=llama2_13b,\n",
        "    model_kwargs={\"temperature\": 0.75,\"top_p\": 1, \"max_new_tokens\":1000}\n",
        ")"
      ]
    },
    {
      "cell_type": "code",
      "execution_count": null,
      "metadata": {
        "id": "gAV2EkZqcruF"
      },
      "outputs": [],
      "source": [
        "# Step 1: load the external data source. In our case, we will load Meta’s “Responsible Use Guide” pdf document.\n",
        "from langchain.document_loaders import OnlinePDFLoader\n",
        "loader = OnlinePDFLoader(\"https://ai.meta.com/static-resource/responsible-use-guide/\")\n",
        "documents = loader.load()\n",
        "\n",
        "# Step 2: Get text splits from document\n",
        "from langchain.text_splitter import RecursiveCharacterTextSplitter\n",
        "text_splitter = RecursiveCharacterTextSplitter(chunk_size=1000, chunk_overlap=20)\n",
        "all_splits = text_splitter.split_documents(documents)\n",
        "\n",
        "# Step 3: Use the embedding model\n",
        "from langchain.vectorstores import FAISS\n",
        "from langchain.embeddings import HuggingFaceEmbeddings\n",
        "model_name = \"sentence-transformers/all-mpnet-base-v2\" # embedding model\n",
        "model_kwargs = {\"device\": \"cpu\"}\n",
        "embeddings = HuggingFaceEmbeddings(model_name=model_name, model_kwargs=model_kwargs)\n",
        "\n",
        "# Step 4: Use vector store to store embeddings\n",
        "vectorstore = FAISS.from_documents(all_splits, embeddings)"
      ]
    },
    {
      "cell_type": "markdown",
      "metadata": {
        "id": "K2l8S5tBxlkc"
      },
      "source": [
        "#### **4.3.2 - LangChain Q&A Retriever**\n",
        "* ConversationalRetrievalChain\n",
        "\n",
        "* Query the Source documents\n"
      ]
    },
    {
      "cell_type": "code",
      "execution_count": null,
      "metadata": {
        "id": "NmEhBe3Kiyre",
        "colab": {
          "base_uri": "https://localhost:8080/",
          "height": 104
        },
        "outputId": "c4201e4a-6f1d-47cf-c59d-a3875cfe4cc9"
      },
      "outputs": [
        {
          "output_type": "display_data",
          "data": {
            "text/plain": [
              "<IPython.core.display.Markdown object>"
            ],
            "text/markdown": " Sure, I'd be happy to help! Based on the context provided, here is how Meta is approaching open science in two short sentences:\n\nMeta is committed to open science because we believe that a vibrant AI-innovation ecosystem will push the frontiers of scientific discovery and potentially revolutionize a wide array of sectors from education to agriculture, and climate management to cybersecurity. By democratizing access to AI technology and promoting collaboration on risk management, we aim to unlock the power of AI for the benefit of all."
          },
          "metadata": {}
        }
      ],
      "source": [
        "# Query against your own data\n",
        "from langchain.chains import ConversationalRetrievalChain\n",
        "chain = ConversationalRetrievalChain.from_llm(llama_model, vectorstore.as_retriever(), return_source_documents=True)\n",
        "\n",
        "chat_history = []\n",
        "query = \"How is Meta approaching open science in two short sentences?\"\n",
        "result = chain({\"question\": query, \"chat_history\": chat_history})\n",
        "md(result['answer'])"
      ]
    },
    {
      "cell_type": "code",
      "execution_count": null,
      "metadata": {
        "id": "CelLHIvoy2Ke",
        "colab": {
          "base_uri": "https://localhost:8080/",
          "height": 180
        },
        "outputId": "472a2bc2-f308-4be5-ad89-880b4f42f293"
      },
      "outputs": [
        {
          "output_type": "display_data",
          "data": {
            "text/plain": [
              "<IPython.core.display.Markdown object>"
            ],
            "text/markdown": " Hello! I'd be happy to help answer your questions based on the provided context.\n\nRegarding Meta's approach to open science, it is benefiting the world by democratizing access to advanced AI technologies like generative AI models. By open sourcing code and datasets, Meta is putting these models in more people's hands, which we believe is the right path to ensure that this technology will benefit the world at large. This approach will contribute to the infrastructure of the AI-developer community with tools like PyTorch. Additionally, Meta is committed to responsible AI practices such as fairness and inclusion, robustness and safety, privacy and security, transparency and control, governance and accountability. These principles will help mitigate novel challenges for the responsible deployment of AI, while many of the principles of responsibility remain the same as for any other AI technology.\n\nPlease let me know if you have any further questions or if there's anything else I can assist you with!"
          },
          "metadata": {}
        }
      ],
      "source": [
        "# This time your previous question and answer will be included as a chat history which will enable the ability\n",
        "# to ask follow up questions.\n",
        "chat_history = [(query, result[\"answer\"])]\n",
        "query = \"How is it benefiting the world?\"\n",
        "result = chain({\"question\": query, \"chat_history\": chat_history})\n",
        "md(result['answer'])"
      ]
    },
    {
      "cell_type": "markdown",
      "source": [
        "## **5 - Fine-Tuning Models**\n",
        "\n",
        "* Limitations of Prompt Eng and RAG\n",
        "* Fine-Tuning\n",
        "* Types (PEFT, LoRA, QLoRA)\n",
        "* Evals + Quality\n",
        "\n",
        "* PyTorch for Pre-Training & Fine-Tuning\n"
      ],
      "metadata": {
        "id": "TEvefAWIJONx"
      }
    },
    {
      "cell_type": "code",
      "source": [
        "fine_tuned_arch()"
      ],
      "metadata": {
        "colab": {
          "base_uri": "https://localhost:8080/",
          "height": 79
        },
        "id": "0a9CvJ8YcTzV",
        "outputId": "6e9578ca-cb6b-4aa4-8b7c-28a93d99d424"
      },
      "execution_count": null,
      "outputs": [
        {
          "output_type": "display_data",
          "data": {
            "text/html": [
              "<img src=\"https://mermaid.ink/img/CiAgZ3JhcGggTFI7CiAgICAgIEN1c3RvbV9EYXRhc2V0IC0tPiBQcmUtdHJhaW5lZF9MbGFtYQogICAgICBQcmUtdHJhaW5lZF9MbGFtYSAtLT4gRmluZS10dW5lZF9MbGFtYQogICAgICBGaW5lLXR1bmVkX0xsYW1hIC0tPiBSTEhGCiAgICAgIFJMSEYgLS0+IHxMb3NzOkNyb3NzLUVudHJvcHl8RmluZS10dW5lZF9MbGFtYQogICAgICBjbGFzc0RlZiBkZWZhdWx0IGZpbGw6I0NDRTZGRixzdHJva2U6Izg0QkNGNSx0ZXh0Q29sb3I6IzFDMkIzMyxmb250RmFtaWx5OnRyZWJ1Y2hldCBtczsKICA=\"/>"
            ],
            "text/plain": [
              "<IPython.core.display.Image object>"
            ]
          },
          "metadata": {}
        }
      ]
    },
    {
      "cell_type": "markdown",
      "metadata": {
        "id": "_8lcgdZa8onC"
      },
      "source": [
        "## **6 - Responsible AI**\n",
        "\n",
        "* Power + Responsibility\n",
        "* Hallucination\n",
        "* Input & Output Safety\n",
        "* Red-teaming (simulating real-world cyber attackers)\n",
        "* Review [Responsible Use Guide](https://ai.meta.com/llama/responsible-use-guide/)\n",
        "\n"
      ]
    },
    {
      "cell_type": "markdown",
      "metadata": {
        "id": "pbqb006R-T_k"
      },
      "source": [
        "##**7 - Conclusion**\n",
        "* Active research on LLMs and Llama\n",
        "* Leverage the power of Llama and its open community (Github - 42k stars, 7k forks)\n",
        "* Call-To-Action\n",
        "  * This notebook is available through [Llama Github recipes](https://github.com/facebookresearch/llama-recipes)\n",
        "  * [Replicate Free Credits](https://replicate.fyi/connect2023) for Connect attendees!\n",
        "  * Excited to see what you all develop with Llama!!!\n",
        "\n"
      ]
    },
    {
      "cell_type": "markdown",
      "source": [
        "#### **Resources**\n",
        "- [GitHub - Llama 2](https://github.com/facebookresearch/llama)\n",
        "- [Github - LLama 2 Recipes](https://github.com/facebookresearch/llama-recipes)\n",
        "- [Llama 2](https://ai.meta.com/llama/)\n",
        "- [Research Paper](https://ai.meta.com/research/publications/llama-2-open-foundation-and-fine-tuned-chat-models/)\n",
        "- [Model Card](https://github.com/facebookresearch/llama/blob/main/MODEL_CARD.md)\n",
        "- [Responsible Use Guide](https://ai.meta.com/llama/responsible-use-guide/)\n",
        "- [Acceptable Use Policy](https://ai.meta.com/llama/use-policy/)\n",
        "- [Replicate](https://replicate.com/meta/)\n",
        "- [LangChain](https://www.langchain.com/)\n",
        "\n"
      ],
      "metadata": {
        "id": "gSz5dTMxp7xo"
      }
    },
    {
      "cell_type": "markdown",
      "source": [
        "#### **Author**\n",
        "  * asangani@meta.com, [Amit Sangani | LinkedIn](https://www.linkedin.com/in/amitsangani/)\n"
      ],
      "metadata": {
        "id": "V7aI6fhZp-KC"
      }
    },
    {
      "cell_type": "markdown",
      "source": [
        "To access this colab notebook, **use QR code** below.\n"
      ],
      "metadata": {
        "id": "CxkYUnWd5Bek"
      }
    },
    {
      "cell_type": "markdown",
      "source": [
        "![adobe-express-qr-code.png](data:image/png;base64,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)"
      ],
      "metadata": {
        "id": "RQBED3okGnMf"
      }
    }
  ],
  "metadata": {
    "colab": {
      "provenance": [],
      "machine_shape": "hm",
      "collapsed_sections": [
        "ioVMNcTesSEk"
      ],
      "toc_visible": true,
      "include_colab_link": true
    },
    "kernelspec": {
      "display_name": "Python 3",
      "name": "python3"
    },
    "language_info": {
      "codemirror_mode": {
        "name": "ipython",
        "version": 3
      },
      "file_extension": ".py",
      "mimetype": "text/x-python",
      "name": "python",
      "nbconvert_exporter": "python",
      "pygments_lexer": "ipython3",
      "version": "3.9.6"
    }
  },
  "nbformat": 4,
  "nbformat_minor": 0
}